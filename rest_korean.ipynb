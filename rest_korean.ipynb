{
 "cells": [
  {
   "cell_type": "markdown",
   "metadata": {},
   "source": [
    "## REST"
   ]
  },
  {
   "cell_type": "code",
   "execution_count": 27,
   "metadata": {
    "collapsed": false
   },
   "outputs": [],
   "source": [
    "import os\n",
    "KEY=\"576e676c626c6f7335386e525a6e67\"\n",
    "TYPE='xml'\n",
    "SERVICE='SearchSTNBySubwayLineService'\n",
    "START_INDEX='1'\n",
    "END_INDEX='10'\n",
    "LINE_NUM='2'\n",
    "#params=os.path.join(KEY,TYPE,SERVICE,START_INDEX,END_INDEX,LINE_NUM)"
   ]
  },
  {
   "cell_type": "code",
   "execution_count": 32,
   "metadata": {
    "collapsed": true
   },
   "outputs": [],
   "source": [
    "url='http://openapi.seoul.go.kr:8088/'\n",
    "url+=KEY\n",
    "url+='/'\n",
    "url+=TYPE\n",
    "url+='/'\n",
    "url+=SERVICE\n",
    "url+='/'\n",
    "url+=START_INDEX\n",
    "url+='/'\n",
    "url+=END_INDEX\n",
    "url+='/'\n",
    "url+=LINE_NUM"
   ]
  },
  {
   "cell_type": "code",
   "execution_count": 33,
   "metadata": {
    "collapsed": false
   },
   "outputs": [
    {
     "name": "stdout",
     "output_type": "stream",
     "text": [
      "http://openapi.seoul.go.kr:8088/576e676c626c6f7335386e525a6e67/xml/SearchSTNBySubwayLineService/1/10/2\n"
     ]
    }
   ],
   "source": [
    "print url"
   ]
  },
  {
   "cell_type": "code",
   "execution_count": 8,
   "metadata": {
    "collapsed": false
   },
   "outputs": [
    {
     "name": "stdout",
     "output_type": "stream",
     "text": [
      "576e676c626c6f7335386e525a6e67\\json\\SearchSTNBySubwayLineService\\1\\10\\2\n"
     ]
    }
   ],
   "source": [
    "print(params)"
   ]
  },
  {
   "cell_type": "code",
   "execution_count": 4,
   "metadata": {
    "collapsed": false
   },
   "outputs": [
    {
     "data": {
      "text/plain": [
       "'/json/SearchSTNBySubwayLineService/1/5/1/'"
      ]
     },
     "execution_count": 4,
     "metadata": {},
     "output_type": "execute_result"
    }
   ],
   "source": [
    "\"/json/SearchSTNBySubwayLineService/1/5/1/\""
   ]
  },
  {
   "cell_type": "code",
   "execution_count": 29,
   "metadata": {
    "collapsed": false,
    "scrolled": true
   },
   "outputs": [
    {
     "name": "stdout",
     "output_type": "stream",
     "text": [
      "http://openapi.seoul.go.kr:8088/576e676c626c6f7335386e525a6e67\\json\\SearchSTNBySubwayLineService\\1\\10\\2\n"
     ]
    }
   ],
   "source": [
    "import urlparse\n",
    "_url='http://openapi.seoul.go.kr:8088/'\n",
    "url=urlparse.urljoin(_url,params)\n",
    "print url"
   ]
  },
  {
   "cell_type": "code",
   "execution_count": 16,
   "metadata": {
    "collapsed": true
   },
   "outputs": [],
   "source": [
    "myurl='http://openapi.seoul.go.kr:8088/576e676c626c6f7335386e525a6e67/xml/SearchSTNBySubwayLineService/1/5/1/'"
   ]
  },
  {
   "cell_type": "code",
   "execution_count": 34,
   "metadata": {
    "collapsed": true
   },
   "outputs": [],
   "source": [
    "import requests\n",
    "data=requests.get(url)"
   ]
  },
  {
   "cell_type": "code",
   "execution_count": 35,
   "metadata": {
    "collapsed": false,
    "scrolled": true
   },
   "outputs": [
    {
     "name": "stdout",
     "output_type": "stream",
     "text": [
      "<?xml version=\"1.0\" encoding=\"UTF-8\"?><SearchSTNBySubwayLineService>\n",
      "<list_total_count>51</list_total_count>\n",
      "<RESULT>\n",
      "<CODE>INFO-000</CODE>\n",
      "<MESSAGE>정상 처리되었습니다</MESSAGE>\n",
      "</RESULT>\n",
      "<row>\n",
      "<STATION_CD>0201</STATION_CD>\n",
      "<STATION_NM>시청</STATION_NM>\n",
      "<LINE_NUM>2</LINE_NUM>\n",
      "<FR_CODE>201</FR_CODE>\n",
      "</row>\n",
      "<row>\n",
      "<STATION_CD>0202</STATION_CD>\n",
      "<STATION_NM>을지로입구</STATION_NM>\n",
      "<LINE_NUM>2</LINE_NUM>\n",
      "<FR_CODE>202</FR_CODE>\n",
      "</row>\n",
      "<row>\n",
      "<STATION_CD>0203</STATION_CD>\n",
      "<STATION_NM>을지로3가</STATION_NM>\n",
      "<LINE_NUM>2</LINE_NUM>\n",
      "<FR_CODE>203</FR_CODE>\n",
      "</row>\n",
      "<row>\n",
      "<STATION_CD>0204</STATION_CD>\n",
      "<STATION_NM>을지로4가</STATION_NM>\n",
      "<LINE_NUM>2</LINE_NUM>\n",
      "<FR_CODE>204</FR_CODE>\n",
      "</row>\n",
      "<row>\n",
      "<STATION_CD>0205</STATION_CD>\n",
      "<STATION_NM>동대문역사문화공원</STATION_NM>\n",
      "<LINE_NUM>2</LINE_NUM>\n",
      "<FR_CODE>205</FR_CODE>\n",
      "</row>\n",
      "<row>\n",
      "<STATION_CD>0206</STATION_CD>\n",
      "<STATION_NM>신당</STATION_NM>\n",
      "<LINE_NUM>2</LINE_NUM>\n",
      "<FR_CODE>206</FR_CODE>\n",
      "</row>\n",
      "<row>\n",
      "<STATION_CD>0207</STATION_CD>\n",
      "<STATION_NM>상왕십리</STATION_NM>\n",
      "<LINE_NUM>2</LINE_NUM>\n",
      "<FR_CODE>207</FR_CODE>\n",
      "</row>\n",
      "<row>\n",
      "<STATION_CD>0208</STATION_CD>\n",
      "<STATION_NM>왕십리</STATION_NM>\n",
      "<LINE_NUM>2</LINE_NUM>\n",
      "<FR_CODE>208</FR_CODE>\n",
      "</row>\n",
      "<row>\n",
      "<STATION_CD>0209</STATION_CD>\n",
      "<STATION_NM>한양대</STATION_NM>\n",
      "<LINE_NUM>2</LINE_NUM>\n",
      "<FR_CODE>209</FR_CODE>\n",
      "</row>\n",
      "<row>\n",
      "<STATION_CD>0210</STATION_CD>\n",
      "<STATION_NM>뚝섬</STATION_NM>\n",
      "<LINE_NUM>2</LINE_NUM>\n",
      "<FR_CODE>210</FR_CODE>\n",
      "</row>\n",
      "</SearchSTNBySubwayLineService>\n",
      "\n"
     ]
    }
   ],
   "source": [
    "print data.text"
   ]
  },
  {
   "cell_type": "code",
   "execution_count": 47,
   "metadata": {
    "collapsed": false
   },
   "outputs": [],
   "source": [
    "import lxml.html\n",
    "from lxml import etree"
   ]
  },
  {
   "cell_type": "code",
   "execution_count": 46,
   "metadata": {
    "collapsed": false
   },
   "outputs": [
    {
     "name": "stdout",
     "output_type": "stream",
     "text": [
      " <type 'unicode'>\n"
     ]
    }
   ],
   "source": [
    "print type(data.text)"
   ]
  },
  {
   "cell_type": "code",
   "execution_count": 51,
   "metadata": {
    "collapsed": false
   },
   "outputs": [],
   "source": [
    "r=requests.get(\"http://httpbin.org/get\")"
   ]
  },
  {
   "cell_type": "code",
   "execution_count": 52,
   "metadata": {
    "collapsed": false
   },
   "outputs": [
    {
     "data": {
      "text/plain": [
       "200"
      ]
     },
     "execution_count": 52,
     "metadata": {},
     "output_type": "execute_result"
    }
   ],
   "source": [
    "r.status_code"
   ]
  },
  {
   "cell_type": "code",
   "execution_count": 55,
   "metadata": {
    "collapsed": false
   },
   "outputs": [],
   "source": [
    "r=requests.get('http://httpbin.org/status/404')"
   ]
  },
  {
   "cell_type": "code",
   "execution_count": 56,
   "metadata": {
    "collapsed": false,
    "scrolled": true
   },
   "outputs": [
    {
     "data": {
      "text/plain": [
       "{'Content-Length': '0', 'Server': 'nginx', 'Connection': 'keep-alive', 'Access-Control-Allow-Credentials': 'true', 'Date': 'Wed, 12 Oct 2016 08:39:40 GMT', 'Access-Control-Allow-Origin': '*', 'Content-Type': 'text/html; charset=utf-8'}"
      ]
     },
     "execution_count": 56,
     "metadata": {},
     "output_type": "execute_result"
    }
   ],
   "source": [
    "r.headers"
   ]
  },
  {
   "cell_type": "code",
   "execution_count": 58,
   "metadata": {
    "collapsed": false,
    "scrolled": true
   },
   "outputs": [
    {
     "name": "stdout",
     "output_type": "stream",
     "text": [
      "{\n",
      "  \"args\": {}, \n",
      "  \"headers\": {\n",
      "    \"Accept\": \"*/*\", \n",
      "    \"Host\": \"httpbin.org\", \n",
      "    \"User-Agent\": \"curl/7.49.0\"\n",
      "  }, \n",
      "  \"origin\": \"203.237.172.100\", \n",
      "  \"url\": \"http://httpbin.org/get\"\n",
      "}\n"
     ]
    },
    {
     "name": "stderr",
     "output_type": "stream",
     "text": [
      "  % Total    % Received % Xferd  Average Speed   Time    Time     Time  Current\n",
      "                                 Dload  Upload   Total   Spent    Left  Speed\n",
      "\n",
      "  0     0    0     0    0     0      0      0 --:--:-- --:--:-- --:--:--     0\n",
      "100   188  100   188    0     0    286      0 --:--:-- --:--:-- --:--:--   286\n"
     ]
    }
   ],
   "source": [
    "!curl http://httpbin.org/get"
   ]
  },
  {
   "cell_type": "markdown",
   "metadata": {},
   "source": [
    "## 한글"
   ]
  },
  {
   "cell_type": "code",
   "execution_count": 61,
   "metadata": {
    "collapsed": false
   },
   "outputs": [],
   "source": [
    "r=requests.get('http://httpbin.org/encoding/utf8')"
   ]
  },
  {
   "cell_type": "code",
   "execution_count": 65,
   "metadata": {
    "collapsed": false,
    "scrolled": false
   },
   "outputs": [
    {
     "data": {
      "text/plain": [
       "u'<h1>Unicode Demo</h1>\\n\\n<p>Taken from <a\\nhref=\"http://www.cl.cam.ac.uk/~mgk25/ucs/examples/UTF-8-demo.txt\">http://www.cl.cam.ac.uk/~mgk25/ucs/examples/UTF-8-demo.txt</a></p>\\n\\n<pre>\\n\\nUTF-8 encoded sample plain-text file\\n\\u203e\\u203e\\u203e\\u203e\\u203e\\u203e\\u203e\\u203e\\u203e\\u203e\\u203e\\u203e\\u203e\\u203e\\u203e\\u203e\\u203e\\u203e\\u203e\\u203e\\u203e\\u203e\\u203e\\u203e\\u203e\\u203e\\u203e\\u203e\\u203e\\u203e\\u203e\\u203e\\u203e\\u203e\\u203e\\u203e\\n\\nMarkus Kuhn [\\u02c8ma\\u02b3k\\u028as ku\\u02d0n] <http://www.cl.cam.ac.uk/~mgk25/> \\u2014 2002-07-25\\n\\n\\nThe ASCII compatible UTF-8 encoding used in this plain-text file\\nis defined in Unicode, ISO 10646-1, and RFC 2279.\\n\\n\\nUsing Unicode/UTF-8, you can write in emails and so'"
      ]
     },
     "execution_count": 65,
     "metadata": {},
     "output_type": "execute_result"
    }
   ],
   "source": [
    "r.text[:500]"
   ]
  },
  {
   "cell_type": "code",
   "execution_count": 66,
   "metadata": {
    "collapsed": false
   },
   "outputs": [
    {
     "name": "stdout",
     "output_type": "stream",
     "text": [
      "\\u203e\n"
     ]
    }
   ],
   "source": [
    "print '\\u203e'"
   ]
  },
  {
   "cell_type": "code",
   "execution_count": 67,
   "metadata": {
    "collapsed": true
   },
   "outputs": [],
   "source": [
    "import locale"
   ]
  },
  {
   "cell_type": "code",
   "execution_count": 68,
   "metadata": {
    "collapsed": false
   },
   "outputs": [
    {
     "data": {
      "text/plain": [
       "('ko_KR', 'cp949')"
      ]
     },
     "execution_count": 68,
     "metadata": {},
     "output_type": "execute_result"
    }
   ],
   "source": [
    "locale.getdefaultlocale()"
   ]
  }
 ],
 "metadata": {
  "kernelspec": {
   "display_name": "Python [Root]",
   "language": "python",
   "name": "Python [Root]"
  },
  "language_info": {
   "codemirror_mode": {
    "name": "ipython",
    "version": 2
   },
   "file_extension": ".py",
   "mimetype": "text/x-python",
   "name": "python",
   "nbconvert_exporter": "python",
   "pygments_lexer": "ipython2",
   "version": "2.7.12"
  }
 },
 "nbformat": 4,
 "nbformat_minor": 0
}
